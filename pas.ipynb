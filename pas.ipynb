{
  "cells": [
    {
      "cell_type": "code",
      "execution_count": 4,
      "metadata": {
        "colab": {
          "base_uri": "https://localhost:8080/"
        },
        "id": "9z10NooDaEKK",
        "outputId": "ed0e2e59-a935-4cfa-9f3c-4411a71a5634"
      },
      "outputs": [
        {
          "output_type": "stream",
          "name": "stdout",
          "text": [
            "Drive already mounted at /content/drive; to attempt to forcibly remount, call drive.mount(\"/content/drive\", force_remount=True).\n"
          ]
        }
      ],
      "source": [
        "from google.colab import drive\n",
        "drive.mount('/content/drive')"
      ]
    },
    {
      "cell_type": "code",
      "execution_count": 5,
      "metadata": {
        "colab": {
          "base_uri": "https://localhost:8080/",
          "height": 424
        },
        "id": "i2J5uXJNaW_q",
        "outputId": "1f210372-5ff3-4440-b0b4-2d9c3a30c95d"
      },
      "outputs": [
        {
          "output_type": "execute_result",
          "data": {
            "text/plain": [
              "      Umur  Tekanan Darah Sistolik  Tekanan Darah Diastolik  Gula Darah  \\\n",
              "0       25                     130                       80        15.0   \n",
              "1       35                     140                       90        13.0   \n",
              "2       29                      90                       70         8.0   \n",
              "3       30                     140                       85         7.0   \n",
              "4       35                     120                       60         6.1   \n",
              "...    ...                     ...                      ...         ...   \n",
              "1009    22                     120                       60        15.0   \n",
              "1010    55                     120                       90        18.0   \n",
              "1011    35                      85                       60        19.0   \n",
              "1012    43                     120                       90        18.0   \n",
              "1013    32                     120                       65         6.0   \n",
              "\n",
              "      Suhu Tubuh  Denyut Jantung Tingkat Resiko  \n",
              "0           98.0              86      high risk  \n",
              "1           98.0              70      high risk  \n",
              "2          100.0              80      high risk  \n",
              "3           98.0              70      high risk  \n",
              "4           98.0              76       low risk  \n",
              "...          ...             ...            ...  \n",
              "1009        98.0              80      high risk  \n",
              "1010        98.0              60      high risk  \n",
              "1011        98.0              86      high risk  \n",
              "1012        98.0              70      high risk  \n",
              "1013       101.0              76       mid risk  \n",
              "\n",
              "[1014 rows x 7 columns]"
            ],
            "text/html": [
              "\n",
              "  <div id=\"df-c630d0a5-2dbb-4844-9fe7-71791870fd98\" class=\"colab-df-container\">\n",
              "    <div>\n",
              "<style scoped>\n",
              "    .dataframe tbody tr th:only-of-type {\n",
              "        vertical-align: middle;\n",
              "    }\n",
              "\n",
              "    .dataframe tbody tr th {\n",
              "        vertical-align: top;\n",
              "    }\n",
              "\n",
              "    .dataframe thead th {\n",
              "        text-align: right;\n",
              "    }\n",
              "</style>\n",
              "<table border=\"1\" class=\"dataframe\">\n",
              "  <thead>\n",
              "    <tr style=\"text-align: right;\">\n",
              "      <th></th>\n",
              "      <th>Umur</th>\n",
              "      <th>Tekanan Darah Sistolik</th>\n",
              "      <th>Tekanan Darah Diastolik</th>\n",
              "      <th>Gula Darah</th>\n",
              "      <th>Suhu Tubuh</th>\n",
              "      <th>Denyut Jantung</th>\n",
              "      <th>Tingkat Resiko</th>\n",
              "    </tr>\n",
              "  </thead>\n",
              "  <tbody>\n",
              "    <tr>\n",
              "      <th>0</th>\n",
              "      <td>25</td>\n",
              "      <td>130</td>\n",
              "      <td>80</td>\n",
              "      <td>15.0</td>\n",
              "      <td>98.0</td>\n",
              "      <td>86</td>\n",
              "      <td>high risk</td>\n",
              "    </tr>\n",
              "    <tr>\n",
              "      <th>1</th>\n",
              "      <td>35</td>\n",
              "      <td>140</td>\n",
              "      <td>90</td>\n",
              "      <td>13.0</td>\n",
              "      <td>98.0</td>\n",
              "      <td>70</td>\n",
              "      <td>high risk</td>\n",
              "    </tr>\n",
              "    <tr>\n",
              "      <th>2</th>\n",
              "      <td>29</td>\n",
              "      <td>90</td>\n",
              "      <td>70</td>\n",
              "      <td>8.0</td>\n",
              "      <td>100.0</td>\n",
              "      <td>80</td>\n",
              "      <td>high risk</td>\n",
              "    </tr>\n",
              "    <tr>\n",
              "      <th>3</th>\n",
              "      <td>30</td>\n",
              "      <td>140</td>\n",
              "      <td>85</td>\n",
              "      <td>7.0</td>\n",
              "      <td>98.0</td>\n",
              "      <td>70</td>\n",
              "      <td>high risk</td>\n",
              "    </tr>\n",
              "    <tr>\n",
              "      <th>4</th>\n",
              "      <td>35</td>\n",
              "      <td>120</td>\n",
              "      <td>60</td>\n",
              "      <td>6.1</td>\n",
              "      <td>98.0</td>\n",
              "      <td>76</td>\n",
              "      <td>low risk</td>\n",
              "    </tr>\n",
              "    <tr>\n",
              "      <th>...</th>\n",
              "      <td>...</td>\n",
              "      <td>...</td>\n",
              "      <td>...</td>\n",
              "      <td>...</td>\n",
              "      <td>...</td>\n",
              "      <td>...</td>\n",
              "      <td>...</td>\n",
              "    </tr>\n",
              "    <tr>\n",
              "      <th>1009</th>\n",
              "      <td>22</td>\n",
              "      <td>120</td>\n",
              "      <td>60</td>\n",
              "      <td>15.0</td>\n",
              "      <td>98.0</td>\n",
              "      <td>80</td>\n",
              "      <td>high risk</td>\n",
              "    </tr>\n",
              "    <tr>\n",
              "      <th>1010</th>\n",
              "      <td>55</td>\n",
              "      <td>120</td>\n",
              "      <td>90</td>\n",
              "      <td>18.0</td>\n",
              "      <td>98.0</td>\n",
              "      <td>60</td>\n",
              "      <td>high risk</td>\n",
              "    </tr>\n",
              "    <tr>\n",
              "      <th>1011</th>\n",
              "      <td>35</td>\n",
              "      <td>85</td>\n",
              "      <td>60</td>\n",
              "      <td>19.0</td>\n",
              "      <td>98.0</td>\n",
              "      <td>86</td>\n",
              "      <td>high risk</td>\n",
              "    </tr>\n",
              "    <tr>\n",
              "      <th>1012</th>\n",
              "      <td>43</td>\n",
              "      <td>120</td>\n",
              "      <td>90</td>\n",
              "      <td>18.0</td>\n",
              "      <td>98.0</td>\n",
              "      <td>70</td>\n",
              "      <td>high risk</td>\n",
              "    </tr>\n",
              "    <tr>\n",
              "      <th>1013</th>\n",
              "      <td>32</td>\n",
              "      <td>120</td>\n",
              "      <td>65</td>\n",
              "      <td>6.0</td>\n",
              "      <td>101.0</td>\n",
              "      <td>76</td>\n",
              "      <td>mid risk</td>\n",
              "    </tr>\n",
              "  </tbody>\n",
              "</table>\n",
              "<p>1014 rows × 7 columns</p>\n",
              "</div>\n",
              "    <div class=\"colab-df-buttons\">\n",
              "\n",
              "  <div class=\"colab-df-container\">\n",
              "    <button class=\"colab-df-convert\" onclick=\"convertToInteractive('df-c630d0a5-2dbb-4844-9fe7-71791870fd98')\"\n",
              "            title=\"Convert this dataframe to an interactive table.\"\n",
              "            style=\"display:none;\">\n",
              "\n",
              "  <svg xmlns=\"http://www.w3.org/2000/svg\" height=\"24px\" viewBox=\"0 -960 960 960\">\n",
              "    <path d=\"M120-120v-720h720v720H120Zm60-500h600v-160H180v160Zm220 220h160v-160H400v160Zm0 220h160v-160H400v160ZM180-400h160v-160H180v160Zm440 0h160v-160H620v160ZM180-180h160v-160H180v160Zm440 0h160v-160H620v160Z\"/>\n",
              "  </svg>\n",
              "    </button>\n",
              "\n",
              "  <style>\n",
              "    .colab-df-container {\n",
              "      display:flex;\n",
              "      gap: 12px;\n",
              "    }\n",
              "\n",
              "    .colab-df-convert {\n",
              "      background-color: #E8F0FE;\n",
              "      border: none;\n",
              "      border-radius: 50%;\n",
              "      cursor: pointer;\n",
              "      display: none;\n",
              "      fill: #1967D2;\n",
              "      height: 32px;\n",
              "      padding: 0 0 0 0;\n",
              "      width: 32px;\n",
              "    }\n",
              "\n",
              "    .colab-df-convert:hover {\n",
              "      background-color: #E2EBFA;\n",
              "      box-shadow: 0px 1px 2px rgba(60, 64, 67, 0.3), 0px 1px 3px 1px rgba(60, 64, 67, 0.15);\n",
              "      fill: #174EA6;\n",
              "    }\n",
              "\n",
              "    .colab-df-buttons div {\n",
              "      margin-bottom: 4px;\n",
              "    }\n",
              "\n",
              "    [theme=dark] .colab-df-convert {\n",
              "      background-color: #3B4455;\n",
              "      fill: #D2E3FC;\n",
              "    }\n",
              "\n",
              "    [theme=dark] .colab-df-convert:hover {\n",
              "      background-color: #434B5C;\n",
              "      box-shadow: 0px 1px 3px 1px rgba(0, 0, 0, 0.15);\n",
              "      filter: drop-shadow(0px 1px 2px rgba(0, 0, 0, 0.3));\n",
              "      fill: #FFFFFF;\n",
              "    }\n",
              "  </style>\n",
              "\n",
              "    <script>\n",
              "      const buttonEl =\n",
              "        document.querySelector('#df-c630d0a5-2dbb-4844-9fe7-71791870fd98 button.colab-df-convert');\n",
              "      buttonEl.style.display =\n",
              "        google.colab.kernel.accessAllowed ? 'block' : 'none';\n",
              "\n",
              "      async function convertToInteractive(key) {\n",
              "        const element = document.querySelector('#df-c630d0a5-2dbb-4844-9fe7-71791870fd98');\n",
              "        const dataTable =\n",
              "          await google.colab.kernel.invokeFunction('convertToInteractive',\n",
              "                                                    [key], {});\n",
              "        if (!dataTable) return;\n",
              "\n",
              "        const docLinkHtml = 'Like what you see? Visit the ' +\n",
              "          '<a target=\"_blank\" href=https://colab.research.google.com/notebooks/data_table.ipynb>data table notebook</a>'\n",
              "          + ' to learn more about interactive tables.';\n",
              "        element.innerHTML = '';\n",
              "        dataTable['output_type'] = 'display_data';\n",
              "        await google.colab.output.renderOutput(dataTable, element);\n",
              "        const docLink = document.createElement('div');\n",
              "        docLink.innerHTML = docLinkHtml;\n",
              "        element.appendChild(docLink);\n",
              "      }\n",
              "    </script>\n",
              "  </div>\n",
              "\n",
              "\n",
              "<div id=\"df-60010404-2822-4f8c-bbf9-37b2b04d3331\">\n",
              "  <button class=\"colab-df-quickchart\" onclick=\"quickchart('df-60010404-2822-4f8c-bbf9-37b2b04d3331')\"\n",
              "            title=\"Suggest charts\"\n",
              "            style=\"display:none;\">\n",
              "\n",
              "<svg xmlns=\"http://www.w3.org/2000/svg\" height=\"24px\"viewBox=\"0 0 24 24\"\n",
              "     width=\"24px\">\n",
              "    <g>\n",
              "        <path d=\"M19 3H5c-1.1 0-2 .9-2 2v14c0 1.1.9 2 2 2h14c1.1 0 2-.9 2-2V5c0-1.1-.9-2-2-2zM9 17H7v-7h2v7zm4 0h-2V7h2v10zm4 0h-2v-4h2v4z\"/>\n",
              "    </g>\n",
              "</svg>\n",
              "  </button>\n",
              "\n",
              "<style>\n",
              "  .colab-df-quickchart {\n",
              "      --bg-color: #E8F0FE;\n",
              "      --fill-color: #1967D2;\n",
              "      --hover-bg-color: #E2EBFA;\n",
              "      --hover-fill-color: #174EA6;\n",
              "      --disabled-fill-color: #AAA;\n",
              "      --disabled-bg-color: #DDD;\n",
              "  }\n",
              "\n",
              "  [theme=dark] .colab-df-quickchart {\n",
              "      --bg-color: #3B4455;\n",
              "      --fill-color: #D2E3FC;\n",
              "      --hover-bg-color: #434B5C;\n",
              "      --hover-fill-color: #FFFFFF;\n",
              "      --disabled-bg-color: #3B4455;\n",
              "      --disabled-fill-color: #666;\n",
              "  }\n",
              "\n",
              "  .colab-df-quickchart {\n",
              "    background-color: var(--bg-color);\n",
              "    border: none;\n",
              "    border-radius: 50%;\n",
              "    cursor: pointer;\n",
              "    display: none;\n",
              "    fill: var(--fill-color);\n",
              "    height: 32px;\n",
              "    padding: 0;\n",
              "    width: 32px;\n",
              "  }\n",
              "\n",
              "  .colab-df-quickchart:hover {\n",
              "    background-color: var(--hover-bg-color);\n",
              "    box-shadow: 0 1px 2px rgba(60, 64, 67, 0.3), 0 1px 3px 1px rgba(60, 64, 67, 0.15);\n",
              "    fill: var(--button-hover-fill-color);\n",
              "  }\n",
              "\n",
              "  .colab-df-quickchart-complete:disabled,\n",
              "  .colab-df-quickchart-complete:disabled:hover {\n",
              "    background-color: var(--disabled-bg-color);\n",
              "    fill: var(--disabled-fill-color);\n",
              "    box-shadow: none;\n",
              "  }\n",
              "\n",
              "  .colab-df-spinner {\n",
              "    border: 2px solid var(--fill-color);\n",
              "    border-color: transparent;\n",
              "    border-bottom-color: var(--fill-color);\n",
              "    animation:\n",
              "      spin 1s steps(1) infinite;\n",
              "  }\n",
              "\n",
              "  @keyframes spin {\n",
              "    0% {\n",
              "      border-color: transparent;\n",
              "      border-bottom-color: var(--fill-color);\n",
              "      border-left-color: var(--fill-color);\n",
              "    }\n",
              "    20% {\n",
              "      border-color: transparent;\n",
              "      border-left-color: var(--fill-color);\n",
              "      border-top-color: var(--fill-color);\n",
              "    }\n",
              "    30% {\n",
              "      border-color: transparent;\n",
              "      border-left-color: var(--fill-color);\n",
              "      border-top-color: var(--fill-color);\n",
              "      border-right-color: var(--fill-color);\n",
              "    }\n",
              "    40% {\n",
              "      border-color: transparent;\n",
              "      border-right-color: var(--fill-color);\n",
              "      border-top-color: var(--fill-color);\n",
              "    }\n",
              "    60% {\n",
              "      border-color: transparent;\n",
              "      border-right-color: var(--fill-color);\n",
              "    }\n",
              "    80% {\n",
              "      border-color: transparent;\n",
              "      border-right-color: var(--fill-color);\n",
              "      border-bottom-color: var(--fill-color);\n",
              "    }\n",
              "    90% {\n",
              "      border-color: transparent;\n",
              "      border-bottom-color: var(--fill-color);\n",
              "    }\n",
              "  }\n",
              "</style>\n",
              "\n",
              "  <script>\n",
              "    async function quickchart(key) {\n",
              "      const quickchartButtonEl =\n",
              "        document.querySelector('#' + key + ' button');\n",
              "      quickchartButtonEl.disabled = true;  // To prevent multiple clicks.\n",
              "      quickchartButtonEl.classList.add('colab-df-spinner');\n",
              "      try {\n",
              "        const charts = await google.colab.kernel.invokeFunction(\n",
              "            'suggestCharts', [key], {});\n",
              "      } catch (error) {\n",
              "        console.error('Error during call to suggestCharts:', error);\n",
              "      }\n",
              "      quickchartButtonEl.classList.remove('colab-df-spinner');\n",
              "      quickchartButtonEl.classList.add('colab-df-quickchart-complete');\n",
              "    }\n",
              "    (() => {\n",
              "      let quickchartButtonEl =\n",
              "        document.querySelector('#df-60010404-2822-4f8c-bbf9-37b2b04d3331 button');\n",
              "      quickchartButtonEl.style.display =\n",
              "        google.colab.kernel.accessAllowed ? 'block' : 'none';\n",
              "    })();\n",
              "  </script>\n",
              "</div>\n",
              "\n",
              "  <div id=\"id_df87d54b-b905-4025-bac9-cc835c4acbe5\">\n",
              "    <style>\n",
              "      .colab-df-generate {\n",
              "        background-color: #E8F0FE;\n",
              "        border: none;\n",
              "        border-radius: 50%;\n",
              "        cursor: pointer;\n",
              "        display: none;\n",
              "        fill: #1967D2;\n",
              "        height: 32px;\n",
              "        padding: 0 0 0 0;\n",
              "        width: 32px;\n",
              "      }\n",
              "\n",
              "      .colab-df-generate:hover {\n",
              "        background-color: #E2EBFA;\n",
              "        box-shadow: 0px 1px 2px rgba(60, 64, 67, 0.3), 0px 1px 3px 1px rgba(60, 64, 67, 0.15);\n",
              "        fill: #174EA6;\n",
              "      }\n",
              "\n",
              "      [theme=dark] .colab-df-generate {\n",
              "        background-color: #3B4455;\n",
              "        fill: #D2E3FC;\n",
              "      }\n",
              "\n",
              "      [theme=dark] .colab-df-generate:hover {\n",
              "        background-color: #434B5C;\n",
              "        box-shadow: 0px 1px 3px 1px rgba(0, 0, 0, 0.15);\n",
              "        filter: drop-shadow(0px 1px 2px rgba(0, 0, 0, 0.3));\n",
              "        fill: #FFFFFF;\n",
              "      }\n",
              "    </style>\n",
              "    <button class=\"colab-df-generate\" onclick=\"generateWithVariable('df')\"\n",
              "            title=\"Generate code using this dataframe.\"\n",
              "            style=\"display:none;\">\n",
              "\n",
              "  <svg xmlns=\"http://www.w3.org/2000/svg\" height=\"24px\"viewBox=\"0 0 24 24\"\n",
              "       width=\"24px\">\n",
              "    <path d=\"M7,19H8.4L18.45,9,17,7.55,7,17.6ZM5,21V16.75L18.45,3.32a2,2,0,0,1,2.83,0l1.4,1.43a1.91,1.91,0,0,1,.58,1.4,1.91,1.91,0,0,1-.58,1.4L9.25,21ZM18.45,9,17,7.55Zm-12,3A5.31,5.31,0,0,0,4.9,8.1,5.31,5.31,0,0,0,1,6.5,5.31,5.31,0,0,0,4.9,4.9,5.31,5.31,0,0,0,6.5,1,5.31,5.31,0,0,0,8.1,4.9,5.31,5.31,0,0,0,12,6.5,5.46,5.46,0,0,0,6.5,12Z\"/>\n",
              "  </svg>\n",
              "    </button>\n",
              "    <script>\n",
              "      (() => {\n",
              "      const buttonEl =\n",
              "        document.querySelector('#id_df87d54b-b905-4025-bac9-cc835c4acbe5 button.colab-df-generate');\n",
              "      buttonEl.style.display =\n",
              "        google.colab.kernel.accessAllowed ? 'block' : 'none';\n",
              "\n",
              "      buttonEl.onclick = () => {\n",
              "        google.colab.notebook.generateWithVariable('df');\n",
              "      }\n",
              "      })();\n",
              "    </script>\n",
              "  </div>\n",
              "\n",
              "    </div>\n",
              "  </div>\n"
            ],
            "application/vnd.google.colaboratory.intrinsic+json": {
              "type": "dataframe",
              "variable_name": "df",
              "summary": "{\n  \"name\": \"df\",\n  \"rows\": 1014,\n  \"fields\": [\n    {\n      \"column\": \"Umur\",\n      \"properties\": {\n        \"dtype\": \"number\",\n        \"std\": 13,\n        \"min\": 10,\n        \"max\": 70,\n        \"num_unique_values\": 50,\n        \"samples\": [\n          40,\n          43,\n          13\n        ],\n        \"semantic_type\": \"\",\n        \"description\": \"\"\n      }\n    },\n    {\n      \"column\": \"Tekanan Darah Sistolik\",\n      \"properties\": {\n        \"dtype\": \"number\",\n        \"std\": 18,\n        \"min\": 70,\n        \"max\": 160,\n        \"num_unique_values\": 19,\n        \"samples\": [\n          130,\n          110,\n          80\n        ],\n        \"semantic_type\": \"\",\n        \"description\": \"\"\n      }\n    },\n    {\n      \"column\": \"Tekanan Darah Diastolik\",\n      \"properties\": {\n        \"dtype\": \"number\",\n        \"std\": 13,\n        \"min\": 49,\n        \"max\": 100,\n        \"num_unique_values\": 16,\n        \"samples\": [\n          80,\n          90,\n          89\n        ],\n        \"semantic_type\": \"\",\n        \"description\": \"\"\n      }\n    },\n    {\n      \"column\": \"Gula Darah\",\n      \"properties\": {\n        \"dtype\": \"number\",\n        \"std\": 3.293531721151271,\n        \"min\": 6.0,\n        \"max\": 19.0,\n        \"num_unique_values\": 29,\n        \"samples\": [\n          6.5,\n          7.7,\n          7.1\n        ],\n        \"semantic_type\": \"\",\n        \"description\": \"\"\n      }\n    },\n    {\n      \"column\": \"Suhu Tubuh\",\n      \"properties\": {\n        \"dtype\": \"number\",\n        \"std\": 1.3713843755995325,\n        \"min\": 98.0,\n        \"max\": 103.0,\n        \"num_unique_values\": 8,\n        \"samples\": [\n          100.0,\n          98.4,\n          98.0\n        ],\n        \"semantic_type\": \"\",\n        \"description\": \"\"\n      }\n    },\n    {\n      \"column\": \"Denyut Jantung\",\n      \"properties\": {\n        \"dtype\": \"number\",\n        \"std\": 8,\n        \"min\": 7,\n        \"max\": 90,\n        \"num_unique_values\": 16,\n        \"samples\": [\n          86,\n          70,\n          77\n        ],\n        \"semantic_type\": \"\",\n        \"description\": \"\"\n      }\n    },\n    {\n      \"column\": \"Tingkat Resiko\",\n      \"properties\": {\n        \"dtype\": \"category\",\n        \"num_unique_values\": 3,\n        \"samples\": [\n          \"high risk\",\n          \"low risk\",\n          \"mid risk\"\n        ],\n        \"semantic_type\": \"\",\n        \"description\": \"\"\n      }\n    }\n  ]\n}"
            }
          },
          "metadata": {},
          "execution_count": 5
        }
      ],
      "source": [
        "import pandas as pd\n",
        "df= pd.read_csv('/content/drive/MyDrive/MP 1B/Maternal Health Risk Data Set.csv')\n",
        "\n",
        "df.rename(columns={'Age': 'Umur', 'SystolicBP': 'Tekanan Darah Sistolik', 'DiastolicBP': 'Tekanan Darah Diastolik', 'BS': 'Gula Darah', 'BodyTemp': 'Suhu Tubuh', 'HeartRate': 'Denyut Jantung', 'RiskLevel': 'Tingkat Resiko'}, inplace=True)\n",
        "df"
      ]
    },
    {
      "cell_type": "code",
      "execution_count": 6,
      "metadata": {
        "colab": {
          "base_uri": "https://localhost:8080/",
          "height": 472
        },
        "id": "ff9cSHFYgk6_",
        "outputId": "d3dbd0a0-59c0-4716-9161-49b383af4bb1"
      },
      "outputs": [
        {
          "output_type": "display_data",
          "data": {
            "text/plain": [
              "<Figure size 640x480 with 1 Axes>"
            ],
            "image/png": "[encoded data removed]"
          },
          "metadata": {}
        }
      ],
      "source": [
        "#VISUALISASI DATA\n",
        "#untuk membuat scatter plot untuk memvisualisasikan hubungan antara Umur, Denyut Jantung, dan Tingkat Resiko dalam data.\n",
        "#Setiap kelompok tingkat risiko ditampilkan dengan warna berbeda, membantu memahami pola atau perbedaan di antara kelompok tersebut.\n",
        "\n",
        "import pandas as pd\n",
        "import matplotlib.pyplot as plt\n",
        "\n",
        "fig, ax = plt.subplots()\n",
        "\n",
        "for tingkat_resiko, d in df.groupby('Tingkat Resiko'):\n",
        "    ax.scatter(d['Umur'], d['Denyut Jantung'], label=tingkat_resiko)\n",
        "\n",
        "\n",
        "plt.legend(loc='upper left')\n",
        "plt.title('Sebaran Data Umur, Denyut Jantung, dan Tingkat Resiko')\n",
        "plt.xlabel('Umur (tahun)')\n",
        "plt.ylabel('Denyut Jantung (bpm)')\n",
        "plt.grid(True)\n",
        "plt.show()"
      ]
    },
    {
      "cell_type": "markdown",
      "metadata": {
        "id": "dGhyhwQJld6t"
      },
      "source": []
    },
    {
      "cell_type": "code",
      "execution_count": 41,
      "metadata": {
        "colab": {
          "base_uri": "https://localhost:8080/"
        },
        "id": "hGGAigDVjSXY",
        "outputId": "ebc95416-babc-433a-fd70-9cbb66302239"
      },
      "outputs": [
        {
          "output_type": "stream",
          "name": "stdout",
          "text": [
            "X_train:\n",
            "[[25 86]\n",
            " [35 70]\n",
            " [29 80]\n",
            " ...\n",
            " [35 86]\n",
            " [43 70]\n",
            " [32 76]]\n",
            "\n",
            "y_train: ['high risk' 'high risk' 'high risk' ... 'high risk' 'high risk'\n",
            " 'mid risk']\n"
          ]
        }
      ],
      "source": [
        "#PREPROCESSING DATASET\n",
        "\n",
        "import numpy as np\n",
        "\n",
        "X_train = np.array(df[['Umur', 'Denyut Jantung']])\n",
        "y_train = np.array(df['Tingkat Resiko'])\n",
        "\n",
        "print(f'X_train:\\n{X_train}\\n')\n",
        "print(f'y_train: {y_train}')\n",
        "\n",
        "#untuk menyiapkan data pelatihan (training data) dengan memisahkan fitur (features) dan target (label) dari DataFrame df menggunakan NumPy.\n",
        "#X_train: Menyimpan data input (fitur) seperti Umur dan Denyut Jantung.\n",
        "#y_train: Menyimpan data output (target) seperti Tingkat Resiko.\n"
      ]
    },
    {
      "cell_type": "code",
      "execution_count": 43,
      "metadata": {
        "colab": {
          "base_uri": "https://localhost:8080/"
        },
        "id": "r7hhi_XVj42h",
        "outputId": "a2945edc-13fd-494a-8eee-36941fc06abc"
      },
      "outputs": [
        {
          "output_type": "stream",
          "name": "stdout",
          "text": [
            "y_train:\n",
            "[[1 0 0]\n",
            " [1 0 0]\n",
            " [1 0 0]\n",
            " ...\n",
            " [1 0 0]\n",
            " [1 0 0]\n",
            " [0 0 1]]\n"
          ]
        }
      ],
      "source": [
        "from sklearn.preprocessing import LabelBinarizer\n",
        "\n",
        "lb = LabelBinarizer()\n",
        "y_train = lb.fit_transform(y_train)\n",
        "print(f'y_train:\\n{y_train}')\n",
        "\n",
        "#menggunakan LabelBinarizer dari pustaka scikit-learn untuk mengubah data target (y_train) menjadi bentuk one-hot encoding"
      ]
    },
    {
      "cell_type": "code",
      "execution_count": 9,
      "metadata": {
        "colab": {
          "base_uri": "https://localhost:8080/"
        },
        "id": "CF6av_2wkCLp",
        "outputId": "ae6dc34c-61e6-4eda-e1d3-74a103a387be"
      },
      "outputs": [
        {
          "output_type": "stream",
          "name": "stdout",
          "text": [
            "y_train: [1 0 0 ... 0 0 1]\n"
          ]
        }
      ],
      "source": [
        "y_train = y_train.flatten()\n",
        "print(f'y_train: {y_train}')\n",
        "\n",
        "#untuk \"meratakan\" array y_train dari bentuk 2D menjadi 1D menggunakan metode .flatten()."
      ]
    },
    {
      "cell_type": "code",
      "execution_count": 30,
      "metadata": {
        "colab": {
          "base_uri": "https://localhost:8080/",
          "height": 306
        },
        "id": "o0fvtQl_kL8T",
        "outputId": "7f553aca-eb80-446a-ad4f-5d3ab3c0d575"
      },
      "outputs": [
        {
          "output_type": "stream",
          "name": "stdout",
          "text": [
            "X_train:\n",
            "[[25 86]\n",
            " [35 70]\n",
            " [29 80]\n",
            " ...\n",
            " [35 86]\n",
            " [43 70]\n",
            " [32 76]]\n",
            "\n",
            "y_train: ['high risk' 'high risk' 'high risk' ... 'high risk' 'high risk'\n",
            " 'mid risk']\n",
            "y_train:\n",
            "[0 0 0 ... 0 0 2]\n"
          ]
        },
        {
          "output_type": "execute_result",
          "data": {
            "text/plain": [
              "KNeighborsClassifier(n_neighbors=3)"
            ],
            "text/html": [
              "<style>#sk-container-id-2 {\n",
              "  /* Definition of color scheme common for light and dark mode */\n",
              "  --sklearn-color-text: black;\n",
              "  --sklearn-color-line: gray;\n",
              "  /* Definition of color scheme for unfitted estimators */\n",
              "  --sklearn-color-unfitted-level-0: #fff5e6;\n",
              "  --sklearn-color-unfitted-level-1: #f6e4d2;\n",
              "  --sklearn-color-unfitted-level-2: #ffe0b3;\n",
              "  --sklearn-color-unfitted-level-3: chocolate;\n",
              "  /* Definition of color scheme for fitted estimators */\n",
              "  --sklearn-color-fitted-level-0: #f0f8ff;\n",
              "  --sklearn-color-fitted-level-1: #d4ebff;\n",
              "  --sklearn-color-fitted-level-2: #b3dbfd;\n",
              "  --sklearn-color-fitted-level-3: cornflowerblue;\n",
              "\n",
              "  /* Specific color for light theme */\n",
              "  --sklearn-color-text-on-default-background: var(--sg-text-color, var(--theme-code-foreground, var(--jp-content-font-color1, black)));\n",
              "  --sklearn-color-background: var(--sg-background-color, var(--theme-background, var(--jp-layout-color0, white)));\n",
              "  --sklearn-color-border-box: var(--sg-text-color, var(--theme-code-foreground, var(--jp-content-font-color1, black)));\n",
              "  --sklearn-color-icon: #696969;\n",
              "\n",
              "  @media (prefers-color-scheme: dark) {\n",
              "    /* Redefinition of color scheme for dark theme */\n",
              "    --sklearn-color-text-on-default-background: var(--sg-text-color, var(--theme-code-foreground, var(--jp-content-font-color1, white)));\n",
              "    --sklearn-color-background: var(--sg-background-color, var(--theme-background, var(--jp-layout-color0, #111)));\n",
              "    --sklearn-color-border-box: var(--sg-text-color, var(--theme-code-foreground, var(--jp-content-font-color1, white)));\n",
              "    --sklearn-color-icon: #878787;\n",
              "  }\n",
              "}\n",
              "\n",
              "#sk-container-id-2 {\n",
              "  color: var(--sklearn-color-text);\n",
              "}\n",
              "\n",
              "#sk-container-id-2 pre {\n",
              "  padding: 0;\n",
              "}\n",
              "\n",
              "#sk-container-id-2 input.sk-hidden--visually {\n",
              "  border: 0;\n",
              "  clip: rect(1px 1px 1px 1px);\n",
              "  clip: rect(1px, 1px, 1px, 1px);\n",
              "  height: 1px;\n",
              "  margin: -1px;\n",
              "  overflow: hidden;\n",
              "  padding: 0;\n",
              "  position: absolute;\n",
              "  width: 1px;\n",
              "}\n",
              "\n",
              "#sk-container-id-2 div.sk-dashed-wrapped {\n",
              "  border: 1px dashed var(--sklearn-color-line);\n",
              "  margin: 0 0.4em 0.5em 0.4em;\n",
              "  box-sizing: border-box;\n",
              "  padding-bottom: 0.4em;\n",
              "  background-color: var(--sklearn-color-background);\n",
              "}\n",
              "\n",
              "#sk-container-id-2 div.sk-container {\n",
              "  /* jupyter's `normalize.less` sets `[hidden] { display: none; }`\n",
              "     but bootstrap.min.css set `[hidden] { display: none !important; }`\n",
              "     so we also need the `!important` here to be able to override the\n",
              "     default hidden behavior on the sphinx rendered scikit-learn.org.\n",
              "     See: https://github.com/scikit-learn/scikit-learn/issues/21755 */\n",
              "  display: inline-block !important;\n",
              "  position: relative;\n",
              "}\n",
              "\n",
              "#sk-container-id-2 div.sk-text-repr-fallback {\n",
              "  display: none;\n",
              "}\n",
              "\n",
              "div.sk-parallel-item,\n",
              "div.sk-serial,\n",
              "div.sk-item {\n",
              "  /* draw centered vertical line to link estimators */\n",
              "  background-image: linear-gradient(var(--sklearn-color-text-on-default-background), var(--sklearn-color-text-on-default-background));\n",
              "  background-size: 2px 100%;\n",
              "  background-repeat: no-repeat;\n",
              "  background-position: center center;\n",
              "}\n",
              "\n",
              "/* Parallel-specific style estimator block */\n",
              "\n",
              "#sk-container-id-2 div.sk-parallel-item::after {\n",
              "  content: \"\";\n",
              "  width: 100%;\n",
              "  border-bottom: 2px solid var(--sklearn-color-text-on-default-background);\n",
              "  flex-grow: 1;\n",
              "}\n",
              "\n",
              "#sk-container-id-2 div.sk-parallel {\n",
              "  display: flex;\n",
              "  align-items: stretch;\n",
              "  justify-content: center;\n",
              "  background-color: var(--sklearn-color-background);\n",
              "  position: relative;\n",
              "}\n",
              "\n",
              "#sk-container-id-2 div.sk-parallel-item {\n",
              "  display: flex;\n",
              "  flex-direction: column;\n",
              "}\n",
              "\n",
              "#sk-container-id-2 div.sk-parallel-item:first-child::after {\n",
              "  align-self: flex-end;\n",
              "  width: 50%;\n",
              "}\n",
              "\n",
              "#sk-container-id-2 div.sk-parallel-item:last-child::after {\n",
              "  align-self: flex-start;\n",
              "  width: 50%;\n",
              "}\n",
              "\n",
              "#sk-container-id-2 div.sk-parallel-item:only-child::after {\n",
              "  width: 0;\n",
              "}\n",
              "\n",
              "/* Serial-specific style estimator block */\n",
              "\n",
              "#sk-container-id-2 div.sk-serial {\n",
              "  display: flex;\n",
              "  flex-direction: column;\n",
              "  align-items: center;\n",
              "  background-color: var(--sklearn-color-background);\n",
              "  padding-right: 1em;\n",
              "  padding-left: 1em;\n",
              "}\n",
              "\n",
              "\n",
              "/* Toggleable style: style used for estimator/Pipeline/ColumnTransformer box that is\n",
              "clickable and can be expanded/collapsed.\n",
              "- Pipeline and ColumnTransformer use this feature and define the default style\n",
              "- Estimators will overwrite some part of the style using the `sk-estimator` class\n",
              "*/\n",
              "\n",
              "/* Pipeline and ColumnTransformer style (default) */\n",
              "\n",
              "#sk-container-id-2 div.sk-toggleable {\n",
              "  /* Default theme specific background. It is overwritten whether we have a\n",
              "  specific estimator or a Pipeline/ColumnTransformer */\n",
              "  background-color: var(--sklearn-color-background);\n",
              "}\n",
              "\n",
              "/* Toggleable label */\n",
              "#sk-container-id-2 label.sk-toggleable__label {\n",
              "  cursor: pointer;\n",
              "  display: block;\n",
              "  width: 100%;\n",
              "  margin-bottom: 0;\n",
              "  padding: 0.5em;\n",
              "  box-sizing: border-box;\n",
              "  text-align: center;\n",
              "}\n",
              "\n",
              "#sk-container-id-2 label.sk-toggleable__label-arrow:before {\n",
              "  /* Arrow on the left of the label */\n",
              "  content: \"▸\";\n",
              "  float: left;\n",
              "  margin-right: 0.25em;\n",
              "  color: var(--sklearn-color-icon);\n",
              "}\n",
              "\n",
              "#sk-container-id-2 label.sk-toggleable__label-arrow:hover:before {\n",
              "  color: var(--sklearn-color-text);\n",
              "}\n",
              "\n",
              "/* Toggleable content - dropdown */\n",
              "\n",
              "#sk-container-id-2 div.sk-toggleable__content {\n",
              "  max-height: 0;\n",
              "  max-width: 0;\n",
              "  overflow: hidden;\n",
              "  text-align: left;\n",
              "  /* unfitted */\n",
              "  background-color: var(--sklearn-color-unfitted-level-0);\n",
              "}\n",
              "\n",
              "#sk-container-id-2 div.sk-toggleable__content.fitted {\n",
              "  /* fitted */\n",
              "  background-color: var(--sklearn-color-fitted-level-0);\n",
              "}\n",
              "\n",
              "#sk-container-id-2 div.sk-toggleable__content pre {\n",
              "  margin: 0.2em;\n",
              "  border-radius: 0.25em;\n",
              "  color: var(--sklearn-color-text);\n",
              "  /* unfitted */\n",
              "  background-color: var(--sklearn-color-unfitted-level-0);\n",
              "}\n",
              "\n",
              "#sk-container-id-2 div.sk-toggleable__content.fitted pre {\n",
              "  /* unfitted */\n",
              "  background-color: var(--sklearn-color-fitted-level-0);\n",
              "}\n",
              "\n",
              "#sk-container-id-2 input.sk-toggleable__control:checked~div.sk-toggleable__content {\n",
              "  /* Expand drop-down */\n",
              "  max-height: 200px;\n",
              "  max-width: 100%;\n",
              "  overflow: auto;\n",
              "}\n",
              "\n",
              "#sk-container-id-2 input.sk-toggleable__control:checked~label.sk-toggleable__label-arrow:before {\n",
              "  content: \"▾\";\n",
              "}\n",
              "\n",
              "/* Pipeline/ColumnTransformer-specific style */\n",
              "\n",
              "#sk-container-id-2 div.sk-label input.sk-toggleable__control:checked~label.sk-toggleable__label {\n",
              "  color: var(--sklearn-color-text);\n",
              "  background-color: var(--sklearn-color-unfitted-level-2);\n",
              "}\n",
              "\n",
              "#sk-container-id-2 div.sk-label.fitted input.sk-toggleable__control:checked~label.sk-toggleable__label {\n",
              "  background-color: var(--sklearn-color-fitted-level-2);\n",
              "}\n",
              "\n",
              "/* Estimator-specific style */\n",
              "\n",
              "/* Colorize estimator box */\n",
              "#sk-container-id-2 div.sk-estimator input.sk-toggleable__control:checked~label.sk-toggleable__label {\n",
              "  /* unfitted */\n",
              "  background-color: var(--sklearn-color-unfitted-level-2);\n",
              "}\n",
              "\n",
              "#sk-container-id-2 div.sk-estimator.fitted input.sk-toggleable__control:checked~label.sk-toggleable__label {\n",
              "  /* fitted */\n",
              "  background-color: var(--sklearn-color-fitted-level-2);\n",
              "}\n",
              "\n",
              "#sk-container-id-2 div.sk-label label.sk-toggleable__label,\n",
              "#sk-container-id-2 div.sk-label label {\n",
              "  /* The background is the default theme color */\n",
              "  color: var(--sklearn-color-text-on-default-background);\n",
              "}\n",
              "\n",
              "/* On hover, darken the color of the background */\n",
              "#sk-container-id-2 div.sk-label:hover label.sk-toggleable__label {\n",
              "  color: var(--sklearn-color-text);\n",
              "  background-color: var(--sklearn-color-unfitted-level-2);\n",
              "}\n",
              "\n",
              "/* Label box, darken color on hover, fitted */\n",
              "#sk-container-id-2 div.sk-label.fitted:hover label.sk-toggleable__label.fitted {\n",
              "  color: var(--sklearn-color-text);\n",
              "  background-color: var(--sklearn-color-fitted-level-2);\n",
              "}\n",
              "\n",
              "/* Estimator label */\n",
              "\n",
              "#sk-container-id-2 div.sk-label label {\n",
              "  font-family: monospace;\n",
              "  font-weight: bold;\n",
              "  display: inline-block;\n",
              "  line-height: 1.2em;\n",
              "}\n",
              "\n",
              "#sk-container-id-2 div.sk-label-container {\n",
              "  text-align: center;\n",
              "}\n",
              "\n",
              "/* Estimator-specific */\n",
              "#sk-container-id-2 div.sk-estimator {\n",
              "  font-family: monospace;\n",
              "  border: 1px dotted var(--sklearn-color-border-box);\n",
              "  border-radius: 0.25em;\n",
              "  box-sizing: border-box;\n",
              "  margin-bottom: 0.5em;\n",
              "  /* unfitted */\n",
              "  background-color: var(--sklearn-color-unfitted-level-0);\n",
              "}\n",
              "\n",
              "#sk-container-id-2 div.sk-estimator.fitted {\n",
              "  /* fitted */\n",
              "  background-color: var(--sklearn-color-fitted-level-0);\n",
              "}\n",
              "\n",
              "/* on hover */\n",
              "#sk-container-id-2 div.sk-estimator:hover {\n",
              "  /* unfitted */\n",
              "  background-color: var(--sklearn-color-unfitted-level-2);\n",
              "}\n",
              "\n",
              "#sk-container-id-2 div.sk-estimator.fitted:hover {\n",
              "  /* fitted */\n",
              "  background-color: var(--sklearn-color-fitted-level-2);\n",
              "}\n",
              "\n",
              "/* Specification for estimator info (e.g. \"i\" and \"?\") */\n",
              "\n",
              "/* Common style for \"i\" and \"?\" */\n",
              "\n",
              ".sk-estimator-doc-link,\n",
              "a:link.sk-estimator-doc-link,\n",
              "a:visited.sk-estimator-doc-link {\n",
              "  float: right;\n",
              "  font-size: smaller;\n",
              "  line-height: 1em;\n",
              "  font-family: monospace;\n",
              "  background-color: var(--sklearn-color-background);\n",
              "  border-radius: 1em;\n",
              "  height: 1em;\n",
              "  width: 1em;\n",
              "  text-decoration: none !important;\n",
              "  margin-left: 1ex;\n",
              "  /* unfitted */\n",
              "  border: var(--sklearn-color-unfitted-level-1) 1pt solid;\n",
              "  color: var(--sklearn-color-unfitted-level-1);\n",
              "}\n",
              "\n",
              ".sk-estimator-doc-link.fitted,\n",
              "a:link.sk-estimator-doc-link.fitted,\n",
              "a:visited.sk-estimator-doc-link.fitted {\n",
              "  /* fitted */\n",
              "  border: var(--sklearn-color-fitted-level-1) 1pt solid;\n",
              "  color: var(--sklearn-color-fitted-level-1);\n",
              "}\n",
              "\n",
              "/* On hover */\n",
              "div.sk-estimator:hover .sk-estimator-doc-link:hover,\n",
              ".sk-estimator-doc-link:hover,\n",
              "div.sk-label-container:hover .sk-estimator-doc-link:hover,\n",
              ".sk-estimator-doc-link:hover {\n",
              "  /* unfitted */\n",
              "  background-color: var(--sklearn-color-unfitted-level-3);\n",
              "  color: var(--sklearn-color-background);\n",
              "  text-decoration: none;\n",
              "}\n",
              "\n",
              "div.sk-estimator.fitted:hover .sk-estimator-doc-link.fitted:hover,\n",
              ".sk-estimator-doc-link.fitted:hover,\n",
              "div.sk-label-container:hover .sk-estimator-doc-link.fitted:hover,\n",
              ".sk-estimator-doc-link.fitted:hover {\n",
              "  /* fitted */\n",
              "  background-color: var(--sklearn-color-fitted-level-3);\n",
              "  color: var(--sklearn-color-background);\n",
              "  text-decoration: none;\n",
              "}\n",
              "\n",
              "/* Span, style for the box shown on hovering the info icon */\n",
              ".sk-estimator-doc-link span {\n",
              "  display: none;\n",
              "  z-index: 9999;\n",
              "  position: relative;\n",
              "  font-weight: normal;\n",
              "  right: .2ex;\n",
              "  padding: .5ex;\n",
              "  margin: .5ex;\n",
              "  width: min-content;\n",
              "  min-width: 20ex;\n",
              "  max-width: 50ex;\n",
              "  color: var(--sklearn-color-text);\n",
              "  box-shadow: 2pt 2pt 4pt #999;\n",
              "  /* unfitted */\n",
              "  background: var(--sklearn-color-unfitted-level-0);\n",
              "  border: .5pt solid var(--sklearn-color-unfitted-level-3);\n",
              "}\n",
              "\n",
              ".sk-estimator-doc-link.fitted span {\n",
              "  /* fitted */\n",
              "  background: var(--sklearn-color-fitted-level-0);\n",
              "  border: var(--sklearn-color-fitted-level-3);\n",
              "}\n",
              "\n",
              ".sk-estimator-doc-link:hover span {\n",
              "  display: block;\n",
              "}\n",
              "\n",
              "/* \"?\"-specific style due to the `<a>` HTML tag */\n",
              "\n",
              "#sk-container-id-2 a.estimator_doc_link {\n",
              "  float: right;\n",
              "  font-size: 1rem;\n",
              "  line-height: 1em;\n",
              "  font-family: monospace;\n",
              "  background-color: var(--sklearn-color-background);\n",
              "  border-radius: 1rem;\n",
              "  height: 1rem;\n",
              "  width: 1rem;\n",
              "  text-decoration: none;\n",
              "  /* unfitted */\n",
              "  color: var(--sklearn-color-unfitted-level-1);\n",
              "  border: var(--sklearn-color-unfitted-level-1) 1pt solid;\n",
              "}\n",
              "\n",
              "#sk-container-id-2 a.estimator_doc_link.fitted {\n",
              "  /* fitted */\n",
              "  border: var(--sklearn-color-fitted-level-1) 1pt solid;\n",
              "  color: var(--sklearn-color-fitted-level-1);\n",
              "}\n",
              "\n",
              "/* On hover */\n",
              "#sk-container-id-2 a.estimator_doc_link:hover {\n",
              "  /* unfitted */\n",
              "  background-color: var(--sklearn-color-unfitted-level-3);\n",
              "  color: var(--sklearn-color-background);\n",
              "  text-decoration: none;\n",
              "}\n",
              "\n",
              "#sk-container-id-2 a.estimator_doc_link.fitted:hover {\n",
              "  /* fitted */\n",
              "  background-color: var(--sklearn-color-fitted-level-3);\n",
              "}\n",
              "</style><div id=\"sk-container-id-2\" class=\"sk-top-container\"><div class=\"sk-text-repr-fallback\"><pre>KNeighborsClassifier(n_neighbors=3)</pre><b>In a Jupyter environment, please rerun this cell to show the HTML representation or trust the notebook. <br />On GitHub, the HTML representation is unable to render, please try loading this page with nbviewer.org.</b></div><div class=\"sk-container\" hidden><div class=\"sk-item\"><div class=\"sk-estimator fitted sk-toggleable\"><input class=\"sk-toggleable__control sk-hidden--visually\" id=\"sk-estimator-id-2\" type=\"checkbox\" checked><label for=\"sk-estimator-id-2\" class=\"sk-toggleable__label fitted sk-toggleable__label-arrow fitted\">&nbsp;&nbsp;KNeighborsClassifier<a class=\"sk-estimator-doc-link fitted\" rel=\"noreferrer\" target=\"_blank\" href=\"https://scikit-learn.org/1.5/modules/generated/sklearn.neighbors.KNeighborsClassifier.html\">?<span>Documentation for KNeighborsClassifier</span></a><span class=\"sk-estimator-doc-link fitted\">i<span>Fitted</span></span></label><div class=\"sk-toggleable__content fitted\"><pre>KNeighborsClassifier(n_neighbors=3)</pre></div> </div></div></div></div>"
            ]
          },
          "metadata": {},
          "execution_count": 30
        }
      ],
      "source": [
        "#PREPROCESSING DATASET\n",
        "\n",
        "import numpy as np\n",
        "\n",
        "X_train = np.array(df[['Umur', 'Denyut Jantung']])\n",
        "y_train = np.array(df['Tingkat Resiko'])\n",
        "\n",
        "print(f'X_train:\\n{X_train}\\n')\n",
        "print(f'y_train: {y_train}')\n",
        "\n",
        "# ---CHANGE START---\n",
        "from sklearn.preprocessing import LabelEncoder\n",
        "\n",
        "le = LabelEncoder()\n",
        "y_train = le.fit_transform(y_train)\n",
        "print(f'y_train:\\n{y_train}')\n",
        "# ---CHANGE END---\n",
        "\n",
        "# TRAINING KKN CLASSIFICATION MODEL\n",
        "\n",
        "from sklearn.neighbors import KNeighborsClassifier\n",
        "\n",
        "K = 3\n",
        "model = KNeighborsClassifier(n_neighbors=K)\n",
        "\n",
        "y_train_encoded = y_train\n",
        "\n",
        "model.fit(X_train, y_train_encoded)\n",
        "\n",
        "#Data fitur dan target dikonversi menjadi array NumPy.Target (label) dikonversi menjadi angka menggunakan LabelEncoder(prepocessing)\n",
        "#Algoritma KNN dengan K=3 dilatih menggunakan data yang telah diproses(training label)\n"
      ]
    },
    {
      "cell_type": "code",
      "execution_count": 12,
      "metadata": {
        "colab": {
          "base_uri": "https://localhost:8080/"
        },
        "id": "bcs90ovckrID",
        "outputId": "e91657c4-d7dd-423c-f933-3b6ecb1375f8"
      },
      "outputs": [
        {
          "output_type": "stream",
          "name": "stdout",
          "text": [
            "[[25 80]]\n"
          ]
        }
      ],
      "source": [
        "#PREDIKSI TINGKAT RESIKO\n",
        "import numpy as np\n",
        "\n",
        "umur = 25\n",
        "denyut_jantung = 80\n",
        "\n",
        "# Menyusun data input menjadi array sesuai dengan fitur yang digunakan\n",
        "X_new = np.array([umur, denyut_jantung]).reshape(1, -1)\n",
        "print(X_new)\n",
        "\n",
        "#untuk menyusun data baru yang akan diprediksi tingkat risikonya oleh model KNN"
      ]
    },
    {
      "cell_type": "code",
      "execution_count": 13,
      "metadata": {
        "colab": {
          "base_uri": "https://localhost:8080/"
        },
        "id": "PIOZ9vEInpRM",
        "outputId": "74bca758-9b6e-4431-9289-2461f999dab4"
      },
      "outputs": [
        {
          "output_type": "stream",
          "name": "stdout",
          "text": [
            "[0]\n",
            "['high risk']\n"
          ]
        }
      ],
      "source": [
        "y_new = model.predict(X_new)\n",
        "print(y_new)\n",
        "\n",
        "# Assuming 'le' is your LabelEncoder from previous cells\n",
        "predicted_label = le.inverse_transform(y_new)\n",
        "print(predicted_label)\n",
        "#untuk memprediksi tingkat risiko berdasarkan data input yang sudah dipersiapkan,\n",
        "#kemudian mengubah hasil prediksi dari format numerik kembali menjadi label kategori asli menggunakan LabelEncoder"
      ]
    },
    {
      "cell_type": "code",
      "execution_count": 14,
      "metadata": {
        "colab": {
          "base_uri": "https://localhost:8080/"
        },
        "id": "t66Lya43lGn2",
        "outputId": "4d15d06d-0145-444d-b9f1-1408c62897b4"
      },
      "outputs": [
        {
          "output_type": "stream",
          "name": "stdout",
          "text": [
            "['high risk']\n"
          ]
        }
      ],
      "source": [
        "decoded_prediction = le.inverse_transform(y_new)\n",
        "print(decoded_prediction)\n",
        "\n",
        "#decoded_prediction berisi label asli setelah hasil prediksi numerik diubah kembali menjadi kategori yang dimengerti manusia,\n",
        "#berkat fungsi inverse_transform dari LabelEncoder.\n",
        "\n",
        "\n",
        "\n",
        "\n",
        "\n"
      ]
    },
    {
      "cell_type": "code",
      "execution_count": 15,
      "metadata": {
        "colab": {
          "base_uri": "https://localhost:8080/",
          "height": 472
        },
        "id": "ADx2DNFcnP90",
        "outputId": "f389ae98-b7a8-4573-cfc0-b34b797a4451"
      },
      "outputs": [
        {
          "output_type": "display_data",
          "data": {
            "text/plain": [
              "<Figure size 640x480 with 1 Axes>"
            ],
            "image/png": "[encoded data removed]"
          },
          "metadata": {}
        }
      ],
      "source": [
        "#VISUALISASI NEAREST NEIGHBOURS\n",
        "\n",
        "import matplotlib.pyplot as plt\n",
        "\n",
        "fig, ax = plt.subplots()\n",
        "for denyut_jantung, d in df.groupby('Denyut Jantung'):\n",
        "    ax.scatter(d['Umur'], d['Tingkat Resiko'], label=denyut_jantung)\n",
        "\n",
        "plt.scatter(umur, tingkat_resiko,\n",
        "            marker='s',\n",
        "            color='red',\n",
        "            label='misterius')\n",
        "\n",
        "plt.legend(loc='upper left')\n",
        "plt.title('Sebaran Data Umur, Denyut Jantung, dan Tingkat Risiko')\n",
        "plt.xlabel('Usia (tahun)')\n",
        "plt.ylabel('Denyut Jantung (bpm)')\n",
        "plt.grid(True)\n",
        "plt.show()\n",
        "\n",
        "#membuat  scatter plot yang menunjukkan hubungan antara Umur, Denyut Jantung, dan Tingkat Resiko.\n",
        "#Selain itu, ada penambahan untuk memvisualisasikan titik yang dianggap \"misterius\" dengan cara menyorot titik tertentu di grafik."
      ]
    },
    {
      "cell_type": "code",
      "execution_count": 16,
      "metadata": {
        "colab": {
          "base_uri": "https://localhost:8080/"
        },
        "id": "n6tKl1sQnSBf",
        "outputId": "2ff07b45-4a8c-4fa1-f514-89b4fae60b29"
      },
      "outputs": [
        {
          "output_type": "execute_result",
          "data": {
            "text/plain": [
              "array(['25', 'mid risk'], dtype='<U21')"
            ]
          },
          "metadata": {},
          "execution_count": 16
        }
      ],
      "source": [
        "#KALKULASI DISTANCE (EUCLIDEAN DISTANCE)\n",
        "\n",
        "misterius = np.array([umur, tingkat_resiko])\n",
        "misterius\n",
        "\n",
        "#cara mendefinisikan titik \"misterius\" dengan data umur dan tingkat risiko dalam format array NumPy."
      ]
    },
    {
      "cell_type": "code",
      "execution_count": 17,
      "metadata": {
        "colab": {
          "base_uri": "https://localhost:8080/"
        },
        "id": "U1MjUhT0o6Lq",
        "outputId": "fa18ec88-4fde-427d-eb0f-eca9fd59df7a"
      },
      "outputs": [
        {
          "output_type": "execute_result",
          "data": {
            "text/plain": [
              "array([[25, 86],\n",
              "       [35, 70],\n",
              "       [29, 80],\n",
              "       ...,\n",
              "       [35, 86],\n",
              "       [43, 70],\n",
              "       [32, 76]])"
            ]
          },
          "metadata": {},
          "execution_count": 17
        }
      ],
      "source": [
        "X_train\n",
        "#array yang berisi fitur dari dataset yang digunakan untuk melatih model"
      ]
    },
    {
      "cell_type": "code",
      "execution_count": 20,
      "metadata": {
        "colab": {
          "base_uri": "https://localhost:8080/"
        },
        "id": "Gn1i-Qn7pABz",
        "outputId": "ed3917fa-a382-432f-d03d-203b3300e975"
      },
      "outputs": [
        {
          "output_type": "stream",
          "name": "stdout",
          "text": [
            "[4.0, 22.360679774997898, 10.770329614269007, 20.615528128088304, 17.204650534085253, 20.09975124224178, 12.165525060596439, 10.770329614269007, 21.18962010041709, 26.248809496813376, 14.142135623730951, 20.8806130178211, 13.0, 20.615528128088304, 23.08679276123039, 22.360679774997898, 25.0, 10.0, 14.866068747318506, 25.0, 15.0, 32.01562118716424, 14.560219778561036, 21.18962010041709, 14.560219778561036, 13.45362404707371, 24.73863375370596, 20.223748416156685, 27.294688127912362, 8.54400374531753, 5.385164807134504, 24.08318915758459, 8.54400374531753, 13.601470508735444, 20.396078054371138, 32.69556544854363, 38.07886552931954, 38.41874542459709, 31.240998703626616, 26.0, 3.605551275463989, 30.066592756745816, 10.0, 20.615528128088304, 20.09975124224178, 21.18962010041709, 26.248809496813376, 14.142135623730951, 16.401219466856727, 22.360679774997898, 24.0, 10.44030650891055, 31.622776601683793, 30.59411708155671, 37.33630940518894, 20.09975124224178, 21.18962010041709, 26.248809496813376, 14.142135623730951, 16.401219466856727, 22.360679774997898, 14.142135623730951, 18.384776310850235, 10.770329614269007, 15.231546211727817, 12.649110640673518, 8.94427190999916, 20.8806130178211, 20.615528128088304, 15.652475842498529, 4.123105625617661, 12.649110640673518, 20.8806130178211, 37.013511046643494, 21.470910553583888, 20.09975124224178, 14.317821063276353, 36.05551275463989, 15.620499351813308, 5.656854249492381, 16.64331697709324, 21.540659228538015, 28.178005607210743, 20.223748416156685, 14.560219778561036, 21.18962010041709, 14.560219778561036, 13.45362404707371, 24.73863375370596, 24.08318915758459, 8.54400374531753, 46.09772228646444, 15.620499351813308, 30.066592756745816, 5.0, 32.01562118716424, 12.649110640673518, 20.8806130178211, 30.59411708155671, 37.33630940518894, 38.41874542459709, 24.0, 23.0, 10.0, 20.09975124224178, 9.848857801796104, 25.0, 10.0, 17.0, 13.892443989449804, 39.05124837953327, 13.601470508735444, 17.204650534085253, 20.615528128088304, 38.0, 10.0, 14.866068747318506, 30.0, 13.892443989449804, 20.615528128088304, 23.08679276123039, 24.0, 10.0, 19.849433241279208, 7.280109889280518, 26.0, 37.64306044943742, 32.69556544854363, 10.770329614269007, 23.08679276123039, 19.849433241279208, 7.280109889280518, 26.0, 37.64306044943742, 18.027756377319946, 30.14962686336267, 33.54101966249684, 32.69556544854363, 29.154759474226502, 15.652475842498529, 13.892443989449804, 16.1245154965971, 21.540659228538015, 10.0, 16.1245154965971, 22.825424421026653, 14.142135623730951, 17.204650534085253, 18.384776310850235, 12.165525060596439, 15.652475842498529, 20.396078054371138, 16.1245154965971, 10.0, 20.09975124224178, 28.178005607210743, 20.223748416156685, 18.027756377319946, 30.066592756745816, 14.0, 14.142135623730951, 14.560219778561036, 21.18962010041709, 14.560219778561036, 13.45362404707371, 24.73863375370596, 19.849433241279208, 7.280109889280518, 20.223748416156685, 27.294688127912362, 8.54400374531753, 27.294688127912362, 5.385164807134504, 24.08318915758459, 8.54400374531753, 13.601470508735444, 26.0, 37.64306044943742, 18.027756377319946, 20.396078054371138, 32.69556544854363, 46.09772228646444, 32.69556544854363, 29.154759474226502, 38.07886552931954, 38.41874542459709, 31.240998703626616, 26.0, 3.605551275463989, 15.620499351813308, 30.066592756745816, 24.351591323771842, 5.0, 32.01562118716424, 10.0, 20.615528128088304, 15.231546211727817, 20.09975124224178, 12.649110640673518, 8.94427190999916, 21.18962010041709, 26.248809496813376, 14.142135623730951, 20.8806130178211, 16.401219466856727, 21.540659228538015, 23.08679276123039, 22.360679774997898, 24.0, 10.44030650891055, 39.05124837953327, 31.622776601683793, 30.59411708155671, 37.33630940518894, 5.0, 32.01562118716424, 10.770329614269007, 20.615528128088304, 15.231546211727817, 20.09975124224178, 12.649110640673518, 8.94427190999916, 21.18962010041709, 26.248809496813376, 14.142135623730951, 20.8806130178211, 16.401219466856727, 20.396078054371138, 23.08679276123039, 22.360679774997898, 28.178005607210743, 10.0, 33.1058907144937, 20.615528128088304, 19.849433241279208, 14.317821063276353, 21.18962010041709, 14.422205101855956, 21.540659228538015, 10.0, 16.1245154965971, 20.8806130178211, 14.142135623730951, 15.652475842498529, 18.384776310850235, 12.165525060596439, 15.652475842498529, 20.396078054371138, 16.1245154965971, 10.0, 25.0, 28.178005607210743, 20.223748416156685, 18.027756377319946, 30.066592756745816, 14.0, 14.142135623730951, 14.560219778561036, 21.18962010041709, 14.560219778561036, 13.45362404707371, 24.73863375370596, 19.849433241279208, 7.280109889280518, 20.223748416156685, 27.294688127912362, 8.54400374531753, 27.294688127912362, 5.385164807134504, 24.08318915758459, 8.54400374531753, 13.601470508735444, 26.0, 37.64306044943742, 18.027756377319946, 30.265491900843113, 32.69556544854363, 46.09772228646444, 32.69556544854363, 28.653097563788805, 38.07886552931954, 38.41874542459709, 31.240998703626616, 26.0, 3.605551275463989, 15.620499351813308, 30.066592756745816, 24.351591323771842, 4.123105625617661, 32.01562118716424, 11.661903789690601, 20.615528128088304, 15.231546211727817, 20.09975124224178, 12.649110640673518, 8.94427190999916, 21.18962010041709, 26.248809496813376, 14.142135623730951, 20.8806130178211, 16.401219466856727, 25.0, 23.08679276123039, 22.360679774997898, 24.0, 10.44030650891055, 32.69556544854363, 31.622776601683793, 30.59411708155671, 37.33630940518894, 33.1058907144937, 18.027756377319946, 35.38361202590826, 44.10215414239989, 24.0, 4.47213595499958, 10.44030650891055, 42.42640687119285, 37.013511046643494, 10.770329614269007, 26.90724809414742, 16.401219466856727, 44.721359549995796, 37.69615364994153, 20.0, 12.36931687685298, 41.19465984809196, 36.89173349139343, 22.360679774997898, 22.80350850198276, 22.360679774997898, 21.470910553583888, 20.09975124224178, 14.317821063276353, 36.05551275463989, 15.620499351813308, 5.656854249492381, 28.284271247461902, 49.24428900898052, 42.37924020083418, 31.622776601683793, 28.284271247461902, 14.317821063276353, 16.64331697709324, 18.384776310850235, 12.165525060596439, 15.652475842498529, 20.396078054371138, 16.1245154965971, 10.0, 21.540659228538015, 28.178005607210743, 20.223748416156685, 18.027756377319946, 30.066592756745816, 14.0, 14.142135623730951, 14.560219778561036, 21.18962010041709, 14.560219778561036, 13.45362404707371, 24.73863375370596, 19.849433241279208, 7.280109889280518, 24.08318915758459, 8.54400374531753, 13.601470508735444, 26.0, 37.64306044943742, 18.027756377319946, 30.265491900843113, 32.69556544854363, 46.09772228646444, 32.69556544854363, 29.154759474226502, 38.07886552931954, 38.41874542459709, 31.240998703626616, 26.0, 3.605551275463989, 15.620499351813308, 30.066592756745816, 24.351591323771842, 5.0, 32.01562118716424, 11.661903789690601, 20.615528128088304, 15.231546211727817, 20.09975124224178, 12.649110640673518, 8.94427190999916, 21.18962010041709, 26.248809496813376, 14.142135623730951, 20.8806130178211, 16.401219466856727, 20.615528128088304, 23.08679276123039, 22.360679774997898, 24.0, 10.44030650891055, 32.69556544854363, 31.622776601683793, 30.59411708155671, 37.33630940518894, 38.41874542459709, 24.0, 3.605551275463989, 32.69556544854363, 31.622776601683793, 30.59411708155671, 37.33630940518894, 32.31098884280702, 28.653097563788805, 22.090722034374522, 37.33630940518894, 31.622776601683793, 42.43819034784589, 16.401219466856727, 12.806248474865697, 37.33630940518894, 3.605551275463989, 17.804493814764857, 13.341664064126334, 30.0, 14.142135623730951, 28.30194339616981, 13.152946437965905, 17.804493814764857, 13.341664064126334, 30.0, 14.142135623730951, 28.30194339616981, 13.152946437965905, 13.152946437965905, 40.19950248448356, 22.360679774997898, 10.770329614269007, 20.615528128088304, 17.204650534085253, 20.09975124224178, 12.165525060596439, 10.770329614269007, 21.18962010041709, 26.90724809414742, 14.142135623730951, 20.8806130178211, 16.401219466856727, 20.615528128088304, 23.08679276123039, 22.360679774997898, 23.0, 10.0, 10.770329614269007, 21.18962010041709, 17.204650534085253, 20.09975124224178, 12.165525060596439, 9.848857801796104, 21.18962010041709, 26.248809496813376, 14.142135623730951, 20.8806130178211, 16.401219466856727, 20.615528128088304, 23.08679276123039, 22.360679774997898, 25.0, 10.0, 14.866068747318506, 20.8806130178211, 17.0, 15.652475842498529, 13.892443989449804, 16.1245154965971, 20.8806130178211, 16.401219466856727, 20.8806130178211, 23.08679276123039, 22.360679774997898, 24.0, 10.44030650891055, 39.05124837953327, 31.622776601683793, 30.59411708155671, 37.33630940518894, 13.601470508735444, 32.01562118716424, 17.204650534085253, 20.615528128088304, 15.231546211727817, 20.09975124224178, 12.649110640673518, 8.94427190999916, 21.18962010041709, 26.248809496813376, 14.142135623730951, 20.8806130178211, 16.401219466856727, 83.48652585896721, 23.08679276123039, 22.360679774997898, 38.0, 10.0, 14.866068747318506, 21.540659228538015, 30.0, 15.652475842498529, 13.892443989449804, 16.1245154965971, 21.540659228538015, 10.0, 16.1245154965971, 20.8806130178211, 14.142135623730951, 37.33630940518894, 8.06225774829855, 32.01562118716424, 11.661903789690601, 20.615528128088304, 15.231546211727817, 20.09975124224178, 12.649110640673518, 8.94427190999916, 21.18962010041709, 26.248809496813376, 22.02271554554524, 20.8806130178211, 16.401219466856727, 20.09975124224178, 23.08679276123039, 22.360679774997898, 24.0, 10.0, 14.866068747318506, 21.93171219946131, 13.45362404707371, 24.73863375370596, 19.849433241279208, 7.280109889280518, 20.223748416156685, 27.294688127912362, 8.54400374531753, 27.294688127912362, 5.385164807134504, 24.08318915758459, 8.54400374531753, 13.601470508735444, 26.0, 37.64306044943742, 18.027756377319946, 30.265491900843113, 32.69556544854363, 46.09772228646444, 32.69556544854363, 29.154759474226502, 38.07886552931954, 38.41874542459709, 31.240998703626616, 26.0, 3.605551275463989, 15.620499351813308, 30.066592756745816, 24.351591323771842, 5.0, 39.44616584663204, 10.770329614269007, 20.09975124224178, 15.231546211727817, 20.09975124224178, 12.649110640673518, 8.94427190999916, 21.18962010041709, 26.248809496813376, 14.142135623730951, 20.8806130178211, 16.401219466856727, 20.615528128088304, 23.08679276123039, 22.360679774997898, 24.020824298928627, 13.45362404707371, 24.73863375370596, 19.849433241279208, 7.280109889280518, 20.223748416156685, 27.294688127912362, 8.54400374531753, 27.294688127912362, 5.385164807134504, 24.08318915758459, 8.54400374531753, 13.601470508735444, 26.0, 37.64306044943742, 18.027756377319946, 30.265491900843113, 30.14962686336267, 33.54101966249684, 32.69556544854363, 29.154759474226502, 38.07886552931954, 33.54101966249684, 32.69556544854363, 29.154759474226502, 21.93171219946131, 38.41874542459709, 31.240998703626616, 26.0, 3.605551275463989, 15.620499351813308, 30.066592756745816, 24.351591323771842, 4.47213595499958, 32.01562118716424, 13.45362404707371, 21.18962010041709, 15.231546211727817, 20.09975124224178, 12.649110640673518, 8.94427190999916, 21.18962010041709, 26.248809496813376, 14.142135623730951, 20.8806130178211, 16.401219466856727, 20.615528128088304, 23.08679276123039, 22.360679774997898, 24.020824298928627, 10.44030650891055, 39.05124837953327, 31.622776601683793, 30.59411708155671, 13.92838827718412, 5.0, 25.317977802344327, 22.360679774997898, 10.770329614269007, 20.8806130178211, 21.0, 5.0, 32.01562118716424, 17.204650534085253, 20.0, 15.231546211727817, 20.09975124224178, 12.649110640673518, 8.94427190999916, 21.18962010041709, 26.248809496813376, 14.142135623730951, 20.8806130178211, 16.401219466856727, 21.93171219946131, 23.08679276123039, 22.360679774997898, 2.0, 10.0, 13.601470508735444, 14.866068747318506, 22.360679774997898, 25.0, 14.142135623730951, 30.265491900843113, 16.401219466856727, 30.265491900843113, 16.401219466856727, 16.401219466856727, 16.401219466856727, 25.0, 16.401219466856727, 16.401219466856727, 23.853720883753127, 14.142135623730951, 22.360679774997898, 10.770329614269007, 20.615528128088304, 20.09975124224178, 10.770329614269007, 26.248809496813376, 25.0, 10.0, 15.0, 13.892443989449804, 22.825424421026653, 12.165525060596439, 16.1245154965971, 18.027756377319946, 19.849433241279208, 20.615528128088304, 22.360679774997898, 24.020824298928627, 20.8806130178211, 15.231546211727817, 20.09975124224178, 14.142135623730951, 20.8806130178211, 16.401219466856727, 21.93171219946131, 22.360679774997898, 14.142135623730951, 30.265491900843113, 16.401219466856727, 23.853720883753127, 30.265491900843113, 12.165525060596439, 21.18962010041709, 20.8806130178211, 20.615528128088304, 23.08679276123039, 14.866068747318506, 15.652475842498529, 16.1245154965971, 21.540659228538015, 10.0, 16.1245154965971, 15.620499351813308, 15.231546211727817, 12.649110640673518, 20.8806130178211, 5.0, 32.01562118716424, 10.770329614269007, 15.231546211727817, 12.649110640673518, 8.94427190999916, 20.8806130178211, 20.615528128088304, 20.8806130178211, 20.615528128088304, 23.08679276123039, 14.866068747318506, 15.652475842498529, 16.1245154965971, 21.540659228538015, 10.0, 16.1245154965971, 15.620499351813308, 15.231546211727817, 12.649110640673518, 20.8806130178211, 5.0, 32.01562118716424, 10.770329614269007, 15.231546211727817, 12.649110640673518, 8.94427190999916, 20.8806130178211, 20.615528128088304, 15.652475842498529, 4.123105625617661, 12.649110640673518, 20.8806130178211, 37.013511046643494, 21.470910553583888, 20.09975124224178, 14.317821063276353, 36.05551275463989, 15.620499351813308, 5.656854249492381, 16.64331697709324, 21.540659228538015, 28.178005607210743, 20.223748416156685, 14.560219778561036, 21.18962010041709, 14.560219778561036, 13.45362404707371, 24.73863375370596, 24.08318915758459, 8.54400374531753, 46.09772228646444, 15.620499351813308, 30.066592756745816, 5.0, 32.01562118716424, 12.649110640673518, 20.8806130178211, 30.59411708155671, 37.33630940518894, 38.41874542459709, 24.0, 32.69556544854363, 31.622776601683793, 30.59411708155671, 37.33630940518894, 28.653097563788805, 22.090722034374522, 31.622776601683793, 16.401219466856727, 37.33630940518894, 30.0, 13.341664064126334, 20.615528128088304, 17.204650534085253, 12.165525060596439, 26.90724809414742, 20.8806130178211, 20.615528128088304, 21.18962010041709, 12.165525060596439, 26.248809496813376, 20.8806130178211, 20.8806130178211, 20.8806130178211, 24.0, 15.231546211727817, 20.09975124224178, 12.649110640673518, 23.08679276123039, 15.652475842498529, 8.06225774829855, 12.649110640673518, 20.09975124224178, 22.360679774997898, 14.866068747318506, 18.027756377319946, 46.09772228646444, 29.154759474226502, 5.0, 15.231546211727817, 20.09975124224178, 12.649110640673518, 20.223748416156685, 27.294688127912362, 8.54400374531753, 27.294688127912362, 5.385164807134504, 24.08318915758459, 8.54400374531753, 13.601470508735444, 38.07886552931954, 29.154759474226502, 24.351591323771842, 12.649110640673518, 20.8806130178211, 30.59411708155671, 13.92838827718412, 5.0, 32.01562118716424, 17.204650534085253, 12.649110640673518, 8.94427190999916, 21.18962010041709, 26.248809496813376, 13.601470508735444, 14.866068747318506, 22.360679774997898, 25.0, 23.853720883753127, 23.853720883753127, 12.165525060596439, 21.18962010041709, 20.8806130178211, 20.615528128088304, 23.08679276123039, 14.866068747318506, 15.652475842498529, 16.1245154965971, 21.540659228538015, 10.0, 16.1245154965971, 15.620499351813308, 15.231546211727817, 12.649110640673518, 20.8806130178211, 5.0, 32.01562118716424, 10.770329614269007, 15.231546211727817, 12.649110640673518, 8.94427190999916, 20.8806130178211, 20.615528128088304, 15.652475842498529, 13.152946437965905, 13.152946437965905, 21.18962010041709, 14.142135623730951, 16.401219466856727, 22.360679774997898, 10.770329614269007, 17.204650534085253, 21.18962010041709, 14.142135623730951, 16.401219466856727, 20.615528128088304, 23.08679276123039, 22.360679774997898, 14.866068747318506, 15.652475842498529, 16.1245154965971, 16.401219466856727, 20.8806130178211, 23.08679276123039, 22.360679774997898, 10.44030650891055, 31.622776601683793, 30.59411708155671, 37.33630940518894, 32.01562118716424, 8.94427190999916, 21.18962010041709, 26.248809496813376, 14.142135623730951, 20.8806130178211, 16.401219466856727, 83.48652585896721, 22.360679774997898, 21.540659228538015, 16.1245154965971, 21.540659228538015, 10.0, 16.1245154965971, 20.8806130178211, 14.142135623730951, 37.33630940518894, 32.01562118716424, 11.661903789690601, 15.231546211727817, 20.09975124224178, 8.94427190999916, 21.18962010041709, 26.248809496813376, 22.02271554554524, 20.8806130178211, 16.401219466856727, 21.93171219946131, 13.45362404707371, 24.73863375370596, 20.223748416156685, 27.294688127912362, 8.54400374531753, 27.294688127912362, 5.385164807134504, 24.08318915758459, 8.54400374531753, 13.601470508735444, 30.265491900843113, 32.69556544854363, 38.07886552931954, 38.41874542459709, 31.240998703626616, 26.0, 3.605551275463989, 15.620499351813308, 30.066592756745816, 24.351591323771842, 39.44616584663204, 20.09975124224178, 8.94427190999916, 21.18962010041709, 26.248809496813376, 10.0, 15.0, 13.892443989449804, 22.825424421026653, 12.165525060596439, 16.1245154965971, 18.027756377319946, 19.849433241279208, 7.280109889280518, 27.294688127912362, 26.0, 37.64306044943742, 18.027756377319946, 46.09772228646444, 32.69556544854363, 29.154759474226502, 24.351591323771842, 5.0, 32.01562118716424, 8.94427190999916, 21.540659228538015, 23.08679276123039, 39.05124837953327, 20.615528128088304, 20.396078054371138, 23.08679276123039, 28.178005607210743, 10.0, 33.1058907144937, 19.849433241279208, 14.317821063276353, 21.18962010041709, 14.422205101855956, 21.540659228538015, 10.0, 16.1245154965971, 20.8806130178211, 12.165525060596439, 16.1245154965971, 10.0, 19.849433241279208, 7.280109889280518, 27.294688127912362, 26.0, 37.64306044943742, 18.027756377319946, 32.69556544854363, 46.09772228646444, 32.69556544854363, 28.653097563788805, 15.620499351813308, 24.351591323771842, 8.94427190999916, 25.0, 23.08679276123039, 10.44030650891055, 42.42640687119285, 10.770329614269007, 26.90724809414742, 15.652475842498529]\n"
          ]
        }
      ],
      "source": [
        "\n",
        "import numpy as np\n",
        "from scipy.spatial.distance import euclidean\n",
        "\n",
        "# Assuming 'umur' and 'denyut_jantung' are defined as before\n",
        "misterius = np.array([umur, denyut_jantung])\n",
        "\n",
        "# Calculate distances\n",
        "data_jarak = [euclidean(misterius, d) for d in X_train]\n",
        "\n",
        "print(data_jarak)\n",
        "\n",
        "#enghitung jarak Euclidean antara titik misterius (misterius)\n",
        "#dan setiap titik dalam X_train menggunakan fungsi euclidean dari scipy.spatial.distance\n",
        "\n"
      ]
    },
    {
      "cell_type": "code",
      "execution_count": 22,
      "metadata": {
        "colab": {
          "base_uri": "https://localhost:8080/"
        },
        "id": "GaJmG45dtoKS",
        "outputId": "6e054e21-8d23-434f-bd64-6350680e7d3f"
      },
      "outputs": [
        {
          "output_type": "stream",
          "name": "stdout",
          "text": [
            "     Umur  Tekanan Darah Sistolik  Tekanan Darah Diastolik  Gula Darah  \\\n",
            "657    27                     140                       90        15.0   \n",
            "40     22                     120                       85         6.1   \n",
            "188    22                     120                       85         6.1   \n",
            "379    22                     120                       85         7.8   \n",
            "945    22                     120                       85         7.5   \n",
            "..    ...                     ...                      ...         ...   \n",
            "372    60                     120                       85        15.0   \n",
            "553    60                     120                       85        15.0   \n",
            "338    70                      85                       60         6.9   \n",
            "908    16                     120                       75         7.9   \n",
            "499    16                     120                       75         7.9   \n",
            "\n",
            "     Suhu Tubuh  Denyut Jantung Tingkat Resiko      jarak  \n",
            "657        98.0              90      high risk   2.000000  \n",
            "40         98.0              88       low risk   3.605551  \n",
            "188        98.0              88       low risk   3.605551  \n",
            "379        98.0              88       low risk   3.605551  \n",
            "945        98.0              88       low risk   3.605551  \n",
            "..          ...             ...            ...        ...  \n",
            "372        98.0              60       mid risk  46.097722  \n",
            "553        98.0              60       mid risk  46.097722  \n",
            "338       102.0              70       low risk  49.244289  \n",
            "908        98.0               7       low risk  83.486526  \n",
            "499        98.0               7       low risk  83.486526  \n",
            "\n",
            "[1014 rows x 8 columns]\n"
          ]
        }
      ],
      "source": [
        "import pandas as pd\n",
        "\n",
        "# Assuming 'df' is your original DataFrame and 'data_jarak' is calculated\n",
        "df['jarak'] = data_jarak  # Add 'jarak' column to your original DataFrame\n",
        "sorted_df = df.sort_values(['jarak']) #sort it by jarak\n",
        "\n",
        "print(sorted_df)\n",
        "\n",
        "#menambahkan kolom jarak ke DataFrame df\n",
        "#kemudian mengurutkan DataFrame berdasarkan nilai dalam kolom jarak."
      ]
    },
    {
      "cell_type": "code",
      "execution_count": 31,
      "metadata": {
        "colab": {
          "base_uri": "https://localhost:8080/"
        },
        "id": "IWogAYucuFFn",
        "outputId": "bb0a13dd-7590-4643-dec6-39cf6219d62e"
      },
      "outputs": [
        {
          "output_type": "stream",
          "name": "stdout",
          "text": [
            "X_test: \n",
            "[[27 65]\n",
            " [60 70]]\n",
            "\n",
            "y_test: \n",
            "[0 0 0 0 0 0 0 0 0 0 0 0]\n"
          ]
        }
      ],
      "source": [
        "# EVALUASI KNN CLASSIFICATION MODEL\n",
        "\n",
        "#Testing set\n",
        "X_test = np.array([[27, 65], [60, 70]])\n",
        "y_test = lb.transform(np.array(['90', '88', '60', '70'])).flatten()\n",
        "\n",
        "print(f'X_test: \\n{X_test}\\n')\n",
        "print(f'y_test: \\n{y_test}')\n",
        "\n",
        "#mendefinisikan data uji (X_test dan y_test) yang akan digunakan untuk mengevaluasi model KNN"
      ]
    },
    {
      "cell_type": "code",
      "execution_count": 34,
      "metadata": {
        "colab": {
          "base_uri": "https://localhost:8080/"
        },
        "id": "fCcER0GQuaBz",
        "outputId": "4ff27c7e-24eb-4ae5-c8cc-f0428f1c699d"
      },
      "outputs": [
        {
          "output_type": "execute_result",
          "data": {
            "text/plain": [
              "array([1, 1])"
            ]
          },
          "metadata": {},
          "execution_count": 34
        }
      ],
      "source": [
        "# EVALUASI KNN CLASSIFICATION MODEL\n",
        "\n",
        "#Prediksi terhadap Testing set\n",
        "y_pred = model.predict(X_test)\n",
        "y_pred"
      ]
    },
    {
      "cell_type": "code",
      "execution_count": 35,
      "metadata": {
        "colab": {
          "base_uri": "https://localhost:8080/"
        },
        "id": "xR4smcNGoScc",
        "outputId": "66df3d2e-f4b1-4e2c-b420-c22aff4421d7"
      },
      "outputs": [
        {
          "output_type": "stream",
          "name": "stdout",
          "text": [
            "X_test: \n",
            "[[27 65]\n",
            " [60 70]]\n",
            "\n",
            "y_test: \n",
            "[1 0]\n",
            "Accuracy: 0.5\n"
          ]
        }
      ],
      "source": [
        "# EVALUASI KNN CLASSIFICATION MODEL\n",
        "#Accuracy\n",
        "\n",
        "#Testing set\n",
        "X_test = np.array([[27, 65], [60, 70]])\n",
        "# The original y_test assignment was incorrect\n",
        "# y_test = lb.transform(np.array(['90', '88', '60', '70'])).flatten()\n",
        "# Assuming you want to test with labels corresponding to the two data points in X_test\n",
        "# We need to provide two labels that match the possible encoded values\n",
        "y_test = np.array([1, 0]) # Example: Assuming 1 and 0 are possible encoded labels\n",
        "\n",
        "print(f'X_test: \\n{X_test}\\n')\n",
        "print(f'y_test: \\n{y_test}')\n",
        "\n",
        "#Prediksi terhadap Testing set\n",
        "y_pred = model.predict(X_test)\n",
        "\n",
        "# Ensure that the number of elements in y_test and y_pred is the same for accuracy calculation\n",
        "from sklearn.metrics import accuracy_score\n",
        "acc = accuracy_score(y_test, y_pred)\n",
        "print (f'Accuracy: {acc}')"
      ]
    },
    {
      "cell_type": "code",
      "execution_count": 36,
      "metadata": {
        "colab": {
          "base_uri": "https://localhost:8080/"
        },
        "id": "zxcWkpO-o5N_",
        "outputId": "062eca96-1903-495c-c087-cf251a43c1ba"
      },
      "outputs": [
        {
          "output_type": "stream",
          "name": "stdout",
          "text": [
            "Precision: 0.5\n"
          ]
        }
      ],
      "source": [
        "#PRECISSION\n",
        "\n",
        "from sklearn.metrics import precision_score\n",
        "prec = precision_score(y_test, y_pred)\n",
        "print(f'Precision: {prec}')"
      ]
    },
    {
      "cell_type": "code",
      "execution_count": 37,
      "metadata": {
        "colab": {
          "base_uri": "https://localhost:8080/"
        },
        "id": "1iAkIRUIvHRj",
        "outputId": "e8d8660d-96df-4d25-fb92-9f84f8115a8f"
      },
      "outputs": [
        {
          "output_type": "stream",
          "name": "stdout",
          "text": [
            "Recall: 1.0\n"
          ]
        }
      ],
      "source": [
        "#RECALL\n",
        "\n",
        "from sklearn.metrics import recall_score\n",
        "rec = recall_score (y_test, y_pred)\n",
        "print(f'Recall: {rec}')"
      ]
    },
    {
      "cell_type": "code",
      "execution_count": 38,
      "metadata": {
        "colab": {
          "base_uri": "https://localhost:8080/"
        },
        "id": "ESk5xsu-vQGW",
        "outputId": "00f35c4d-fa5f-46de-8837-8b0efd2beba2"
      },
      "outputs": [
        {
          "output_type": "stream",
          "name": "stdout",
          "text": [
            "F1-score: 0.6666666666666666\n"
          ]
        }
      ],
      "source": [
        "#F1 SCORE\n",
        "\n",
        "from sklearn.metrics import f1_score\n",
        "f1 = f1_score (y_test, y_pred)\n",
        "print (f'F1-score: {f1}')"
      ]
    },
    {
      "cell_type": "code",
      "execution_count": 39,
      "metadata": {
        "colab": {
          "base_uri": "https://localhost:8080/"
        },
        "id": "DEXPt1wUvUKu",
        "outputId": "91a48f81-a265-4c65-8c35-515076443586"
      },
      "outputs": [
        {
          "output_type": "stream",
          "name": "stdout",
          "text": [
            "Classification Report:\n",
            "              precision    recall  f1-score   support\n",
            "\n",
            "           0       0.00      0.00      0.00         1\n",
            "           1       0.50      1.00      0.67         1\n",
            "\n",
            "    accuracy                           0.50         2\n",
            "   macro avg       0.25      0.50      0.33         2\n",
            "weighted avg       0.25      0.50      0.33         2\n",
            "\n"
          ]
        },
        {
          "output_type": "stream",
          "name": "stderr",
          "text": [
            "/usr/local/lib/python3.10/dist-packages/sklearn/metrics/_classification.py:1531: UndefinedMetricWarning: Precision is ill-defined and being set to 0.0 in labels with no predicted samples. Use `zero_division` parameter to control this behavior.\n",
            "  _warn_prf(average, modifier, f\"{metric.capitalize()} is\", len(result))\n",
            "/usr/local/lib/python3.10/dist-packages/sklearn/metrics/_classification.py:1531: UndefinedMetricWarning: Precision is ill-defined and being set to 0.0 in labels with no predicted samples. Use `zero_division` parameter to control this behavior.\n",
            "  _warn_prf(average, modifier, f\"{metric.capitalize()} is\", len(result))\n",
            "/usr/local/lib/python3.10/dist-packages/sklearn/metrics/_classification.py:1531: UndefinedMetricWarning: Precision is ill-defined and being set to 0.0 in labels with no predicted samples. Use `zero_division` parameter to control this behavior.\n",
            "  _warn_prf(average, modifier, f\"{metric.capitalize()} is\", len(result))\n"
          ]
        }
      ],
      "source": [
        "#CLASSIFICATION REPORT\n",
        "\n",
        "from sklearn.metrics import classification_report\n",
        "cls_report = classification_report(y_test, y_pred)\n",
        "print(f'Classification Report:\\n{cls_report}')\n"
      ]
    },
    {
      "cell_type": "code",
      "execution_count": 40,
      "metadata": {
        "colab": {
          "base_uri": "https://localhost:8080/"
        },
        "id": "WriwPFv4vSPW",
        "outputId": "5debc067-9e3f-4c85-dcb5-fd7e1b5b40ea"
      },
      "outputs": [
        {
          "output_type": "stream",
          "name": "stdout",
          "text": [
            "MCC: 0.0\n"
          ]
        }
      ],
      "source": [
        "#MATTHEWS CORRELATION COEFFICIENT (MCC)\n",
        "\n",
        "from sklearn.metrics import matthews_corrcoef\n",
        "mcc = matthews_corrcoef(y_test, y_pred)\n",
        "print(f'MCC: {mcc}')"
      ]
    }
  ],
  "metadata": {
    "colab": {
      "provenance": []
    },
    "kernelspec": {
      "display_name": "Python 3",
      "name": "python3"
    },
    "language_info": {
      "name": "python"
    }
  },
  "nbformat": 4,
  "nbformat_minor": 0
}